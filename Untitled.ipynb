{
 "cells": [
  {
   "cell_type": "markdown",
   "metadata": {},
   "source": [
    "# High Energy Physics example"
   ]
  },
  {
   "cell_type": "code",
   "execution_count": 3,
   "metadata": {},
   "outputs": [],
   "source": [
    "tracks <- read.csv(\"data/tracks_real_sorted.csv\")"
   ]
  },
  {
   "cell_type": "code",
   "execution_count": 4,
   "metadata": {},
   "outputs": [
    {
     "data": {
      "text/html": [
       "<ol class=list-inline>\n",
       "\t<li>9999</li>\n",
       "\t<li>175</li>\n",
       "</ol>\n"
      ],
      "text/latex": [
       "\\begin{enumerate*}\n",
       "\\item 9999\n",
       "\\item 175\n",
       "\\end{enumerate*}\n"
      ],
      "text/markdown": [
       "1. 9999\n",
       "2. 175\n",
       "\n",
       "\n"
      ],
      "text/plain": [
       "[1] 9999  175"
      ]
     },
     "metadata": {},
     "output_type": "display_data"
    }
   ],
   "source": [
    "dim(tracks)"
   ]
  },
  {
   "cell_type": "code",
   "execution_count": 5,
   "metadata": {},
   "outputs": [],
   "source": [
    "tracks <- tracks[,2:175]"
   ]
  },
  {
   "cell_type": "code",
   "execution_count": 6,
   "metadata": {},
   "outputs": [],
   "source": [
    "tracks_pt <- sqrt(tracks[,4]^2+tracks[,5]^2)"
   ]
  },
  {
   "cell_type": "code",
   "execution_count": 7,
   "metadata": {},
   "outputs": [],
   "source": [
    "tracks <- tracks[,7:174]"
   ]
  },
  {
   "cell_type": "code",
   "execution_count": 8,
   "metadata": {},
   "outputs": [
    {
     "data": {
      "text/html": [
       "<ol class=list-inline>\n",
       "\t<li>9999</li>\n",
       "\t<li>168</li>\n",
       "</ol>\n"
      ],
      "text/latex": [
       "\\begin{enumerate*}\n",
       "\\item 9999\n",
       "\\item 168\n",
       "\\end{enumerate*}\n"
      ],
      "text/markdown": [
       "1. 9999\n",
       "2. 168\n",
       "\n",
       "\n"
      ],
      "text/plain": [
       "[1] 9999  168"
      ]
     },
     "metadata": {},
     "output_type": "display_data"
    }
   ],
   "source": [
    "dim(tracks)"
   ]
  },
  {
   "cell_type": "code",
   "execution_count": 9,
   "metadata": {},
   "outputs": [
    {
     "data": {
      "text/html": [
       "28"
      ],
      "text/latex": [
       "28"
      ],
      "text/markdown": [
       "28"
      ],
      "text/plain": [
       "[1] 28"
      ]
     },
     "metadata": {},
     "output_type": "display_data"
    }
   ],
   "source": [
    "168/6"
   ]
  },
  {
   "cell_type": "code",
   "execution_count": 10,
   "metadata": {},
   "outputs": [],
   "source": [
    "counter <- 1;\n",
    "for(i in seq(1,168, by=6)){\n",
    "    names(tracks)[i] <-  paste(\"X\", counter, sep=\"\");\n",
    "    names(tracks)[i+1] <-  paste(\"Y\", counter, sep=\"\");\n",
    "    names(tracks)[i+2] <-  paste(\"Z\", counter, sep=\"\");\n",
    "    names(tracks)[i+3] <-  paste(\"CH0_\", counter, sep=\"\");\n",
    "    names(tracks)[i+4] <-  paste(\"CH1_\", counter, sep=\"\");\n",
    "    names(tracks)[i+5] <-  paste(\"W\", counter, sep=\"\");\n",
    "    counter <- counter +1;\n",
    "}"
   ]
  },
  {
   "cell_type": "code",
   "execution_count": 11,
   "metadata": {},
   "outputs": [
    {
     "data": {
      "text/html": [
       "<ol class=list-inline>\n",
       "\t<li>'X1'</li>\n",
       "\t<li>'Y1'</li>\n",
       "\t<li>'Z1'</li>\n",
       "\t<li>'CH0_1'</li>\n",
       "\t<li>'CH1_1'</li>\n",
       "\t<li>'W1'</li>\n",
       "\t<li>'X2'</li>\n",
       "\t<li>'Y2'</li>\n",
       "\t<li>'Z2'</li>\n",
       "\t<li>'CH0_2'</li>\n",
       "\t<li>'CH1_2'</li>\n",
       "\t<li>'W2'</li>\n",
       "\t<li>'X3'</li>\n",
       "\t<li>'Y3'</li>\n",
       "\t<li>'Z3'</li>\n",
       "\t<li>'CH0_3'</li>\n",
       "\t<li>'CH1_3'</li>\n",
       "\t<li>'W3'</li>\n",
       "\t<li>'X4'</li>\n",
       "\t<li>'Y4'</li>\n",
       "\t<li>'Z4'</li>\n",
       "\t<li>'CH0_4'</li>\n",
       "\t<li>'CH1_4'</li>\n",
       "\t<li>'W4'</li>\n",
       "\t<li>'X5'</li>\n",
       "\t<li>'Y5'</li>\n",
       "\t<li>'Z5'</li>\n",
       "\t<li>'CH0_5'</li>\n",
       "\t<li>'CH1_5'</li>\n",
       "\t<li>'W5'</li>\n",
       "\t<li>'X6'</li>\n",
       "\t<li>'Y6'</li>\n",
       "\t<li>'Z6'</li>\n",
       "\t<li>'CH0_6'</li>\n",
       "\t<li>'CH1_6'</li>\n",
       "\t<li>'W6'</li>\n",
       "\t<li>'X7'</li>\n",
       "\t<li>'Y7'</li>\n",
       "\t<li>'Z7'</li>\n",
       "\t<li>'CH0_7'</li>\n",
       "\t<li>'CH1_7'</li>\n",
       "\t<li>'W7'</li>\n",
       "\t<li>'X8'</li>\n",
       "\t<li>'Y8'</li>\n",
       "\t<li>'Z8'</li>\n",
       "\t<li>'CH0_8'</li>\n",
       "\t<li>'CH1_8'</li>\n",
       "\t<li>'W8'</li>\n",
       "\t<li>'X9'</li>\n",
       "\t<li>'Y9'</li>\n",
       "\t<li>'Z9'</li>\n",
       "\t<li>'CH0_9'</li>\n",
       "\t<li>'CH1_9'</li>\n",
       "\t<li>'W9'</li>\n",
       "\t<li>'X10'</li>\n",
       "\t<li>'Y10'</li>\n",
       "\t<li>'Z10'</li>\n",
       "\t<li>'CH0_10'</li>\n",
       "\t<li>'CH1_10'</li>\n",
       "\t<li>'W10'</li>\n",
       "\t<li>'X11'</li>\n",
       "\t<li>'Y11'</li>\n",
       "\t<li>'Z11'</li>\n",
       "\t<li>'CH0_11'</li>\n",
       "\t<li>'CH1_11'</li>\n",
       "\t<li>'W11'</li>\n",
       "\t<li>'X12'</li>\n",
       "\t<li>'Y12'</li>\n",
       "\t<li>'Z12'</li>\n",
       "\t<li>'CH0_12'</li>\n",
       "\t<li>'CH1_12'</li>\n",
       "\t<li>'W12'</li>\n",
       "\t<li>'X13'</li>\n",
       "\t<li>'Y13'</li>\n",
       "\t<li>'Z13'</li>\n",
       "\t<li>'CH0_13'</li>\n",
       "\t<li>'CH1_13'</li>\n",
       "\t<li>'W13'</li>\n",
       "\t<li>'X14'</li>\n",
       "\t<li>'Y14'</li>\n",
       "\t<li>'Z14'</li>\n",
       "\t<li>'CH0_14'</li>\n",
       "\t<li>'CH1_14'</li>\n",
       "\t<li>'W14'</li>\n",
       "\t<li>'X15'</li>\n",
       "\t<li>'Y15'</li>\n",
       "\t<li>'Z15'</li>\n",
       "\t<li>'CH0_15'</li>\n",
       "\t<li>'CH1_15'</li>\n",
       "\t<li>'W15'</li>\n",
       "\t<li>'X16'</li>\n",
       "\t<li>'Y16'</li>\n",
       "\t<li>'Z16'</li>\n",
       "\t<li>'CH0_16'</li>\n",
       "\t<li>'CH1_16'</li>\n",
       "\t<li>'W16'</li>\n",
       "\t<li>'X17'</li>\n",
       "\t<li>'Y17'</li>\n",
       "\t<li>'Z17'</li>\n",
       "\t<li>'CH0_17'</li>\n",
       "\t<li>'CH1_17'</li>\n",
       "\t<li>'W17'</li>\n",
       "\t<li>'X18'</li>\n",
       "\t<li>'Y18'</li>\n",
       "\t<li>'Z18'</li>\n",
       "\t<li>'CH0_18'</li>\n",
       "\t<li>'CH1_18'</li>\n",
       "\t<li>'W18'</li>\n",
       "\t<li>'X19'</li>\n",
       "\t<li>'Y19'</li>\n",
       "\t<li>'Z19'</li>\n",
       "\t<li>'CH0_19'</li>\n",
       "\t<li>'CH1_19'</li>\n",
       "\t<li>'W19'</li>\n",
       "\t<li>'X20'</li>\n",
       "\t<li>'Y20'</li>\n",
       "\t<li>'Z20'</li>\n",
       "\t<li>'CH0_20'</li>\n",
       "\t<li>'CH1_20'</li>\n",
       "\t<li>'W20'</li>\n",
       "\t<li>'X21'</li>\n",
       "\t<li>'Y21'</li>\n",
       "\t<li>'Z21'</li>\n",
       "\t<li>'CH0_21'</li>\n",
       "\t<li>'CH1_21'</li>\n",
       "\t<li>'W21'</li>\n",
       "\t<li>'X22'</li>\n",
       "\t<li>'Y22'</li>\n",
       "\t<li>'Z22'</li>\n",
       "\t<li>'CH0_22'</li>\n",
       "\t<li>'CH1_22'</li>\n",
       "\t<li>'W22'</li>\n",
       "\t<li>'X23'</li>\n",
       "\t<li>'Y23'</li>\n",
       "\t<li>'Z23'</li>\n",
       "\t<li>'CH0_23'</li>\n",
       "\t<li>'CH1_23'</li>\n",
       "\t<li>'W23'</li>\n",
       "\t<li>'X24'</li>\n",
       "\t<li>'Y24'</li>\n",
       "\t<li>'Z24'</li>\n",
       "\t<li>'CH0_24'</li>\n",
       "\t<li>'CH1_24'</li>\n",
       "\t<li>'W24'</li>\n",
       "\t<li>'X25'</li>\n",
       "\t<li>'Y25'</li>\n",
       "\t<li>'Z25'</li>\n",
       "\t<li>'CH0_25'</li>\n",
       "\t<li>'CH1_25'</li>\n",
       "\t<li>'W25'</li>\n",
       "\t<li>'X26'</li>\n",
       "\t<li>'Y26'</li>\n",
       "\t<li>'Z26'</li>\n",
       "\t<li>'CH0_26'</li>\n",
       "\t<li>'CH1_26'</li>\n",
       "\t<li>'W26'</li>\n",
       "\t<li>'X27'</li>\n",
       "\t<li>'Y27'</li>\n",
       "\t<li>'Z27'</li>\n",
       "\t<li>'CH0_27'</li>\n",
       "\t<li>'CH1_27'</li>\n",
       "\t<li>'W27'</li>\n",
       "\t<li>'X28'</li>\n",
       "\t<li>'Y28'</li>\n",
       "\t<li>'Z28'</li>\n",
       "\t<li>'CH0_28'</li>\n",
       "\t<li>'CH1_28'</li>\n",
       "\t<li>'W28'</li>\n",
       "</ol>\n"
      ],
      "text/latex": [
       "\\begin{enumerate*}\n",
       "\\item 'X1'\n",
       "\\item 'Y1'\n",
       "\\item 'Z1'\n",
       "\\item 'CH0\\_1'\n",
       "\\item 'CH1\\_1'\n",
       "\\item 'W1'\n",
       "\\item 'X2'\n",
       "\\item 'Y2'\n",
       "\\item 'Z2'\n",
       "\\item 'CH0\\_2'\n",
       "\\item 'CH1\\_2'\n",
       "\\item 'W2'\n",
       "\\item 'X3'\n",
       "\\item 'Y3'\n",
       "\\item 'Z3'\n",
       "\\item 'CH0\\_3'\n",
       "\\item 'CH1\\_3'\n",
       "\\item 'W3'\n",
       "\\item 'X4'\n",
       "\\item 'Y4'\n",
       "\\item 'Z4'\n",
       "\\item 'CH0\\_4'\n",
       "\\item 'CH1\\_4'\n",
       "\\item 'W4'\n",
       "\\item 'X5'\n",
       "\\item 'Y5'\n",
       "\\item 'Z5'\n",
       "\\item 'CH0\\_5'\n",
       "\\item 'CH1\\_5'\n",
       "\\item 'W5'\n",
       "\\item 'X6'\n",
       "\\item 'Y6'\n",
       "\\item 'Z6'\n",
       "\\item 'CH0\\_6'\n",
       "\\item 'CH1\\_6'\n",
       "\\item 'W6'\n",
       "\\item 'X7'\n",
       "\\item 'Y7'\n",
       "\\item 'Z7'\n",
       "\\item 'CH0\\_7'\n",
       "\\item 'CH1\\_7'\n",
       "\\item 'W7'\n",
       "\\item 'X8'\n",
       "\\item 'Y8'\n",
       "\\item 'Z8'\n",
       "\\item 'CH0\\_8'\n",
       "\\item 'CH1\\_8'\n",
       "\\item 'W8'\n",
       "\\item 'X9'\n",
       "\\item 'Y9'\n",
       "\\item 'Z9'\n",
       "\\item 'CH0\\_9'\n",
       "\\item 'CH1\\_9'\n",
       "\\item 'W9'\n",
       "\\item 'X10'\n",
       "\\item 'Y10'\n",
       "\\item 'Z10'\n",
       "\\item 'CH0\\_10'\n",
       "\\item 'CH1\\_10'\n",
       "\\item 'W10'\n",
       "\\item 'X11'\n",
       "\\item 'Y11'\n",
       "\\item 'Z11'\n",
       "\\item 'CH0\\_11'\n",
       "\\item 'CH1\\_11'\n",
       "\\item 'W11'\n",
       "\\item 'X12'\n",
       "\\item 'Y12'\n",
       "\\item 'Z12'\n",
       "\\item 'CH0\\_12'\n",
       "\\item 'CH1\\_12'\n",
       "\\item 'W12'\n",
       "\\item 'X13'\n",
       "\\item 'Y13'\n",
       "\\item 'Z13'\n",
       "\\item 'CH0\\_13'\n",
       "\\item 'CH1\\_13'\n",
       "\\item 'W13'\n",
       "\\item 'X14'\n",
       "\\item 'Y14'\n",
       "\\item 'Z14'\n",
       "\\item 'CH0\\_14'\n",
       "\\item 'CH1\\_14'\n",
       "\\item 'W14'\n",
       "\\item 'X15'\n",
       "\\item 'Y15'\n",
       "\\item 'Z15'\n",
       "\\item 'CH0\\_15'\n",
       "\\item 'CH1\\_15'\n",
       "\\item 'W15'\n",
       "\\item 'X16'\n",
       "\\item 'Y16'\n",
       "\\item 'Z16'\n",
       "\\item 'CH0\\_16'\n",
       "\\item 'CH1\\_16'\n",
       "\\item 'W16'\n",
       "\\item 'X17'\n",
       "\\item 'Y17'\n",
       "\\item 'Z17'\n",
       "\\item 'CH0\\_17'\n",
       "\\item 'CH1\\_17'\n",
       "\\item 'W17'\n",
       "\\item 'X18'\n",
       "\\item 'Y18'\n",
       "\\item 'Z18'\n",
       "\\item 'CH0\\_18'\n",
       "\\item 'CH1\\_18'\n",
       "\\item 'W18'\n",
       "\\item 'X19'\n",
       "\\item 'Y19'\n",
       "\\item 'Z19'\n",
       "\\item 'CH0\\_19'\n",
       "\\item 'CH1\\_19'\n",
       "\\item 'W19'\n",
       "\\item 'X20'\n",
       "\\item 'Y20'\n",
       "\\item 'Z20'\n",
       "\\item 'CH0\\_20'\n",
       "\\item 'CH1\\_20'\n",
       "\\item 'W20'\n",
       "\\item 'X21'\n",
       "\\item 'Y21'\n",
       "\\item 'Z21'\n",
       "\\item 'CH0\\_21'\n",
       "\\item 'CH1\\_21'\n",
       "\\item 'W21'\n",
       "\\item 'X22'\n",
       "\\item 'Y22'\n",
       "\\item 'Z22'\n",
       "\\item 'CH0\\_22'\n",
       "\\item 'CH1\\_22'\n",
       "\\item 'W22'\n",
       "\\item 'X23'\n",
       "\\item 'Y23'\n",
       "\\item 'Z23'\n",
       "\\item 'CH0\\_23'\n",
       "\\item 'CH1\\_23'\n",
       "\\item 'W23'\n",
       "\\item 'X24'\n",
       "\\item 'Y24'\n",
       "\\item 'Z24'\n",
       "\\item 'CH0\\_24'\n",
       "\\item 'CH1\\_24'\n",
       "\\item 'W24'\n",
       "\\item 'X25'\n",
       "\\item 'Y25'\n",
       "\\item 'Z25'\n",
       "\\item 'CH0\\_25'\n",
       "\\item 'CH1\\_25'\n",
       "\\item 'W25'\n",
       "\\item 'X26'\n",
       "\\item 'Y26'\n",
       "\\item 'Z26'\n",
       "\\item 'CH0\\_26'\n",
       "\\item 'CH1\\_26'\n",
       "\\item 'W26'\n",
       "\\item 'X27'\n",
       "\\item 'Y27'\n",
       "\\item 'Z27'\n",
       "\\item 'CH0\\_27'\n",
       "\\item 'CH1\\_27'\n",
       "\\item 'W27'\n",
       "\\item 'X28'\n",
       "\\item 'Y28'\n",
       "\\item 'Z28'\n",
       "\\item 'CH0\\_28'\n",
       "\\item 'CH1\\_28'\n",
       "\\item 'W28'\n",
       "\\end{enumerate*}\n"
      ],
      "text/markdown": [
       "1. 'X1'\n",
       "2. 'Y1'\n",
       "3. 'Z1'\n",
       "4. 'CH0_1'\n",
       "5. 'CH1_1'\n",
       "6. 'W1'\n",
       "7. 'X2'\n",
       "8. 'Y2'\n",
       "9. 'Z2'\n",
       "10. 'CH0_2'\n",
       "11. 'CH1_2'\n",
       "12. 'W2'\n",
       "13. 'X3'\n",
       "14. 'Y3'\n",
       "15. 'Z3'\n",
       "16. 'CH0_3'\n",
       "17. 'CH1_3'\n",
       "18. 'W3'\n",
       "19. 'X4'\n",
       "20. 'Y4'\n",
       "21. 'Z4'\n",
       "22. 'CH0_4'\n",
       "23. 'CH1_4'\n",
       "24. 'W4'\n",
       "25. 'X5'\n",
       "26. 'Y5'\n",
       "27. 'Z5'\n",
       "28. 'CH0_5'\n",
       "29. 'CH1_5'\n",
       "30. 'W5'\n",
       "31. 'X6'\n",
       "32. 'Y6'\n",
       "33. 'Z6'\n",
       "34. 'CH0_6'\n",
       "35. 'CH1_6'\n",
       "36. 'W6'\n",
       "37. 'X7'\n",
       "38. 'Y7'\n",
       "39. 'Z7'\n",
       "40. 'CH0_7'\n",
       "41. 'CH1_7'\n",
       "42. 'W7'\n",
       "43. 'X8'\n",
       "44. 'Y8'\n",
       "45. 'Z8'\n",
       "46. 'CH0_8'\n",
       "47. 'CH1_8'\n",
       "48. 'W8'\n",
       "49. 'X9'\n",
       "50. 'Y9'\n",
       "51. 'Z9'\n",
       "52. 'CH0_9'\n",
       "53. 'CH1_9'\n",
       "54. 'W9'\n",
       "55. 'X10'\n",
       "56. 'Y10'\n",
       "57. 'Z10'\n",
       "58. 'CH0_10'\n",
       "59. 'CH1_10'\n",
       "60. 'W10'\n",
       "61. 'X11'\n",
       "62. 'Y11'\n",
       "63. 'Z11'\n",
       "64. 'CH0_11'\n",
       "65. 'CH1_11'\n",
       "66. 'W11'\n",
       "67. 'X12'\n",
       "68. 'Y12'\n",
       "69. 'Z12'\n",
       "70. 'CH0_12'\n",
       "71. 'CH1_12'\n",
       "72. 'W12'\n",
       "73. 'X13'\n",
       "74. 'Y13'\n",
       "75. 'Z13'\n",
       "76. 'CH0_13'\n",
       "77. 'CH1_13'\n",
       "78. 'W13'\n",
       "79. 'X14'\n",
       "80. 'Y14'\n",
       "81. 'Z14'\n",
       "82. 'CH0_14'\n",
       "83. 'CH1_14'\n",
       "84. 'W14'\n",
       "85. 'X15'\n",
       "86. 'Y15'\n",
       "87. 'Z15'\n",
       "88. 'CH0_15'\n",
       "89. 'CH1_15'\n",
       "90. 'W15'\n",
       "91. 'X16'\n",
       "92. 'Y16'\n",
       "93. 'Z16'\n",
       "94. 'CH0_16'\n",
       "95. 'CH1_16'\n",
       "96. 'W16'\n",
       "97. 'X17'\n",
       "98. 'Y17'\n",
       "99. 'Z17'\n",
       "100. 'CH0_17'\n",
       "101. 'CH1_17'\n",
       "102. 'W17'\n",
       "103. 'X18'\n",
       "104. 'Y18'\n",
       "105. 'Z18'\n",
       "106. 'CH0_18'\n",
       "107. 'CH1_18'\n",
       "108. 'W18'\n",
       "109. 'X19'\n",
       "110. 'Y19'\n",
       "111. 'Z19'\n",
       "112. 'CH0_19'\n",
       "113. 'CH1_19'\n",
       "114. 'W19'\n",
       "115. 'X20'\n",
       "116. 'Y20'\n",
       "117. 'Z20'\n",
       "118. 'CH0_20'\n",
       "119. 'CH1_20'\n",
       "120. 'W20'\n",
       "121. 'X21'\n",
       "122. 'Y21'\n",
       "123. 'Z21'\n",
       "124. 'CH0_21'\n",
       "125. 'CH1_21'\n",
       "126. 'W21'\n",
       "127. 'X22'\n",
       "128. 'Y22'\n",
       "129. 'Z22'\n",
       "130. 'CH0_22'\n",
       "131. 'CH1_22'\n",
       "132. 'W22'\n",
       "133. 'X23'\n",
       "134. 'Y23'\n",
       "135. 'Z23'\n",
       "136. 'CH0_23'\n",
       "137. 'CH1_23'\n",
       "138. 'W23'\n",
       "139. 'X24'\n",
       "140. 'Y24'\n",
       "141. 'Z24'\n",
       "142. 'CH0_24'\n",
       "143. 'CH1_24'\n",
       "144. 'W24'\n",
       "145. 'X25'\n",
       "146. 'Y25'\n",
       "147. 'Z25'\n",
       "148. 'CH0_25'\n",
       "149. 'CH1_25'\n",
       "150. 'W25'\n",
       "151. 'X26'\n",
       "152. 'Y26'\n",
       "153. 'Z26'\n",
       "154. 'CH0_26'\n",
       "155. 'CH1_26'\n",
       "156. 'W26'\n",
       "157. 'X27'\n",
       "158. 'Y27'\n",
       "159. 'Z27'\n",
       "160. 'CH0_27'\n",
       "161. 'CH1_27'\n",
       "162. 'W27'\n",
       "163. 'X28'\n",
       "164. 'Y28'\n",
       "165. 'Z28'\n",
       "166. 'CH0_28'\n",
       "167. 'CH1_28'\n",
       "168. 'W28'\n",
       "\n",
       "\n"
      ],
      "text/plain": [
       "  [1] \"X1\"     \"Y1\"     \"Z1\"     \"CH0_1\"  \"CH1_1\"  \"W1\"     \"X2\"     \"Y2\"    \n",
       "  [9] \"Z2\"     \"CH0_2\"  \"CH1_2\"  \"W2\"     \"X3\"     \"Y3\"     \"Z3\"     \"CH0_3\" \n",
       " [17] \"CH1_3\"  \"W3\"     \"X4\"     \"Y4\"     \"Z4\"     \"CH0_4\"  \"CH1_4\"  \"W4\"    \n",
       " [25] \"X5\"     \"Y5\"     \"Z5\"     \"CH0_5\"  \"CH1_5\"  \"W5\"     \"X6\"     \"Y6\"    \n",
       " [33] \"Z6\"     \"CH0_6\"  \"CH1_6\"  \"W6\"     \"X7\"     \"Y7\"     \"Z7\"     \"CH0_7\" \n",
       " [41] \"CH1_7\"  \"W7\"     \"X8\"     \"Y8\"     \"Z8\"     \"CH0_8\"  \"CH1_8\"  \"W8\"    \n",
       " [49] \"X9\"     \"Y9\"     \"Z9\"     \"CH0_9\"  \"CH1_9\"  \"W9\"     \"X10\"    \"Y10\"   \n",
       " [57] \"Z10\"    \"CH0_10\" \"CH1_10\" \"W10\"    \"X11\"    \"Y11\"    \"Z11\"    \"CH0_11\"\n",
       " [65] \"CH1_11\" \"W11\"    \"X12\"    \"Y12\"    \"Z12\"    \"CH0_12\" \"CH1_12\" \"W12\"   \n",
       " [73] \"X13\"    \"Y13\"    \"Z13\"    \"CH0_13\" \"CH1_13\" \"W13\"    \"X14\"    \"Y14\"   \n",
       " [81] \"Z14\"    \"CH0_14\" \"CH1_14\" \"W14\"    \"X15\"    \"Y15\"    \"Z15\"    \"CH0_15\"\n",
       " [89] \"CH1_15\" \"W15\"    \"X16\"    \"Y16\"    \"Z16\"    \"CH0_16\" \"CH1_16\" \"W16\"   \n",
       " [97] \"X17\"    \"Y17\"    \"Z17\"    \"CH0_17\" \"CH1_17\" \"W17\"    \"X18\"    \"Y18\"   \n",
       "[105] \"Z18\"    \"CH0_18\" \"CH1_18\" \"W18\"    \"X19\"    \"Y19\"    \"Z19\"    \"CH0_19\"\n",
       "[113] \"CH1_19\" \"W19\"    \"X20\"    \"Y20\"    \"Z20\"    \"CH0_20\" \"CH1_20\" \"W20\"   \n",
       "[121] \"X21\"    \"Y21\"    \"Z21\"    \"CH0_21\" \"CH1_21\" \"W21\"    \"X22\"    \"Y22\"   \n",
       "[129] \"Z22\"    \"CH0_22\" \"CH1_22\" \"W22\"    \"X23\"    \"Y23\"    \"Z23\"    \"CH0_23\"\n",
       "[137] \"CH1_23\" \"W23\"    \"X24\"    \"Y24\"    \"Z24\"    \"CH0_24\" \"CH1_24\" \"W24\"   \n",
       "[145] \"X25\"    \"Y25\"    \"Z25\"    \"CH0_25\" \"CH1_25\" \"W25\"    \"X26\"    \"Y26\"   \n",
       "[153] \"Z26\"    \"CH0_26\" \"CH1_26\" \"W26\"    \"X27\"    \"Y27\"    \"Z27\"    \"CH0_27\"\n",
       "[161] \"CH1_27\" \"W27\"    \"X28\"    \"Y28\"    \"Z28\"    \"CH0_28\" \"CH1_28\" \"W28\"   "
      ]
     },
     "metadata": {},
     "output_type": "display_data"
    }
   ],
   "source": [
    "names(tracks)"
   ]
  },
  {
   "cell_type": "code",
   "execution_count": 13,
   "metadata": {},
   "outputs": [],
   "source": [
    "new_tracks <- data.frame(0)\n",
    "counter <- 1;\n",
    "for(i in seq(1,168, by=6)){\n",
    "    new_tracks <- cbind(new_tracks, tracks[,i])\n",
    "    new_tracks <- cbind(new_tracks, tracks[,i+1])\n",
    "    new_tracks <- cbind(new_tracks, tracks[,i+2])\n",
    "    counter <- counter +1;\n",
    "}"
   ]
  },
  {
   "cell_type": "code",
   "execution_count": 14,
   "metadata": {},
   "outputs": [
    {
     "data": {
      "text/html": [
       "<ol class=list-inline>\n",
       "\t<li>9999</li>\n",
       "\t<li>85</li>\n",
       "</ol>\n"
      ],
      "text/latex": [
       "\\begin{enumerate*}\n",
       "\\item 9999\n",
       "\\item 85\n",
       "\\end{enumerate*}\n"
      ],
      "text/markdown": [
       "1. 9999\n",
       "2. 85\n",
       "\n",
       "\n"
      ],
      "text/plain": [
       "[1] 9999   85"
      ]
     },
     "metadata": {},
     "output_type": "display_data"
    }
   ],
   "source": [
    "dim(new_tracks)"
   ]
  },
  {
   "cell_type": "code",
   "execution_count": 15,
   "metadata": {},
   "outputs": [],
   "source": [
    "tracks <- new_tracks[,2:85]"
   ]
  },
  {
   "cell_type": "code",
   "execution_count": 16,
   "metadata": {},
   "outputs": [
    {
     "data": {
      "text/html": [
       "<ol class=list-inline>\n",
       "\t<li>9999</li>\n",
       "\t<li>84</li>\n",
       "</ol>\n"
      ],
      "text/latex": [
       "\\begin{enumerate*}\n",
       "\\item 9999\n",
       "\\item 84\n",
       "\\end{enumerate*}\n"
      ],
      "text/markdown": [
       "1. 9999\n",
       "2. 84\n",
       "\n",
       "\n"
      ],
      "text/plain": [
       "[1] 9999   84"
      ]
     },
     "metadata": {},
     "output_type": "display_data"
    }
   ],
   "source": [
    "dim(tracks)"
   ]
  },
  {
   "cell_type": "code",
   "execution_count": 17,
   "metadata": {},
   "outputs": [
    {
     "data": {
      "text/html": [
       "<table>\n",
       "<thead><tr><th scope=col>tracks[, i]</th><th scope=col>tracks[, i + 1]</th><th scope=col>tracks[, i + 2]</th><th scope=col>tracks[, i].1</th><th scope=col>tracks[, i + 1].1</th><th scope=col>tracks[, i + 2].1</th><th scope=col>tracks[, i].2</th><th scope=col>tracks[, i + 1].2</th><th scope=col>tracks[, i + 2].2</th><th scope=col>tracks[, i].3</th><th scope=col>...</th><th scope=col>tracks[, i + 2].24</th><th scope=col>tracks[, i].25</th><th scope=col>tracks[, i + 1].25</th><th scope=col>tracks[, i + 2].25</th><th scope=col>tracks[, i].26</th><th scope=col>tracks[, i + 1].26</th><th scope=col>tracks[, i + 2].26</th><th scope=col>tracks[, i].27</th><th scope=col>tracks[, i + 1].27</th><th scope=col>tracks[, i + 2].27</th></tr></thead>\n",
       "<tbody>\n",
       "\t<tr><td>  2.53958</td><td>-32.9422 </td><td>-18.5956 </td><td>  3.22143</td><td> -72.8393</td><td>-34.7699 </td><td>  0.8076 </td><td>-115.4140</td><td> -52.1330</td><td>   0.6271</td><td>...      </td><td>0        </td><td>0        </td><td>0        </td><td>0        </td><td>0        </td><td>0        </td><td>0        </td><td>0        </td><td>0        </td><td>0        </td></tr>\n",
       "\t<tr><td> 26.08550</td><td>-19.4307 </td><td>-18.0035 </td><td> 58.15980</td><td> -42.0439</td><td>-33.5563 </td><td> 94.7369 </td><td> -66.1171</td><td> -50.8589</td><td>  96.4641</td><td>...      </td><td>0        </td><td>0        </td><td>0        </td><td>0        </td><td>0        </td><td>0        </td><td>0        </td><td>0        </td><td>0        </td><td>0        </td></tr>\n",
       "\t<tr><td>171.36501</td><td> 17.4512 </td><td> 31.4652 </td><td>342.95200</td><td>-123.4670</td><td> 21.2047 </td><td>337.7340 </td><td>-121.0630</td><td>  21.4850</td><td> 479.0280</td><td>...      </td><td>0        </td><td>0        </td><td>0        </td><td>0        </td><td>0        </td><td>0        </td><td>0        </td><td>0        </td><td>0        </td><td>0        </td></tr>\n",
       "\t<tr><td>  0.00000</td><td>  0.0000 </td><td>  0.0000 </td><td>  0.00000</td><td>   0.0000</td><td>  0.0000 </td><td>  0.0000 </td><td>   0.0000</td><td>   0.0000</td><td>   0.0000</td><td>...      </td><td>0        </td><td>0        </td><td>0        </td><td>0        </td><td>0        </td><td>0        </td><td>0        </td><td>0        </td><td>0        </td><td>0        </td></tr>\n",
       "\t<tr><td>  0.00000</td><td>  0.0000 </td><td>  0.0000 </td><td>  0.00000</td><td>   0.0000</td><td>  0.0000 </td><td>  0.0000 </td><td>   0.0000</td><td>   0.0000</td><td>   0.0000</td><td>...      </td><td>0        </td><td>0        </td><td>0        </td><td>0        </td><td>0        </td><td>0        </td><td>0        </td><td>0        </td><td>0        </td><td>0        </td></tr>\n",
       "\t<tr><td>-29.71800</td><td> 11.8925 </td><td>-53.4217 </td><td>-31.27470</td><td>  12.5953</td><td>-55.9876 </td><td>-64.7501 </td><td>  29.8005</td><td>-112.3950</td><td>-102.0910</td><td>...      </td><td>0        </td><td>0        </td><td>0        </td><td>0        </td><td>0        </td><td>0        </td><td>0        </td><td>0        </td><td>0        </td><td>0        </td></tr>\n",
       "</tbody>\n",
       "</table>\n"
      ],
      "text/latex": [
       "\\begin{tabular}{r|llllllllllllllllllllllllllllllllllllllllllllllllllllllllllllllllllllllllllllllllllll}\n",
       " tracks{[}, i{]} & tracks{[}, i + 1{]} & tracks{[}, i + 2{]} & tracks{[}, i{]}.1 & tracks{[}, i + 1{]}.1 & tracks{[}, i + 2{]}.1 & tracks{[}, i{]}.2 & tracks{[}, i + 1{]}.2 & tracks{[}, i + 2{]}.2 & tracks{[}, i{]}.3 & ... & tracks{[}, i + 2{]}.24 & tracks{[}, i{]}.25 & tracks{[}, i + 1{]}.25 & tracks{[}, i + 2{]}.25 & tracks{[}, i{]}.26 & tracks{[}, i + 1{]}.26 & tracks{[}, i + 2{]}.26 & tracks{[}, i{]}.27 & tracks{[}, i + 1{]}.27 & tracks{[}, i + 2{]}.27\\\\\n",
       "\\hline\n",
       "\t   2.53958 & -32.9422  & -18.5956  &   3.22143 &  -72.8393 & -34.7699  &   0.8076  & -115.4140 &  -52.1330 &    0.6271 & ...       & 0         & 0         & 0         & 0         & 0         & 0         & 0         & 0         & 0         & 0        \\\\\n",
       "\t  26.08550 & -19.4307  & -18.0035  &  58.15980 &  -42.0439 & -33.5563  &  94.7369  &  -66.1171 &  -50.8589 &   96.4641 & ...       & 0         & 0         & 0         & 0         & 0         & 0         & 0         & 0         & 0         & 0        \\\\\n",
       "\t 171.36501 &  17.4512  &  31.4652  & 342.95200 & -123.4670 &  21.2047  & 337.7340  & -121.0630 &   21.4850 &  479.0280 & ...       & 0         & 0         & 0         & 0         & 0         & 0         & 0         & 0         & 0         & 0        \\\\\n",
       "\t   0.00000 &   0.0000  &   0.0000  &   0.00000 &    0.0000 &   0.0000  &   0.0000  &    0.0000 &    0.0000 &    0.0000 & ...       & 0         & 0         & 0         & 0         & 0         & 0         & 0         & 0         & 0         & 0        \\\\\n",
       "\t   0.00000 &   0.0000  &   0.0000  &   0.00000 &    0.0000 &   0.0000  &   0.0000  &    0.0000 &    0.0000 &    0.0000 & ...       & 0         & 0         & 0         & 0         & 0         & 0         & 0         & 0         & 0         & 0        \\\\\n",
       "\t -29.71800 &  11.8925  & -53.4217  & -31.27470 &   12.5953 & -55.9876  & -64.7501  &   29.8005 & -112.3950 & -102.0910 & ...       & 0         & 0         & 0         & 0         & 0         & 0         & 0         & 0         & 0         & 0        \\\\\n",
       "\\end{tabular}\n"
      ],
      "text/markdown": [
       "\n",
       "| tracks[, i] | tracks[, i + 1] | tracks[, i + 2] | tracks[, i].1 | tracks[, i + 1].1 | tracks[, i + 2].1 | tracks[, i].2 | tracks[, i + 1].2 | tracks[, i + 2].2 | tracks[, i].3 | ... | tracks[, i + 2].24 | tracks[, i].25 | tracks[, i + 1].25 | tracks[, i + 2].25 | tracks[, i].26 | tracks[, i + 1].26 | tracks[, i + 2].26 | tracks[, i].27 | tracks[, i + 1].27 | tracks[, i + 2].27 |\n",
       "|---|---|---|---|---|---|---|---|---|---|---|---|---|---|---|---|---|---|---|---|---|\n",
       "|   2.53958 | -32.9422  | -18.5956  |   3.22143 |  -72.8393 | -34.7699  |   0.8076  | -115.4140 |  -52.1330 |    0.6271 | ...       | 0         | 0         | 0         | 0         | 0         | 0         | 0         | 0         | 0         | 0         |\n",
       "|  26.08550 | -19.4307  | -18.0035  |  58.15980 |  -42.0439 | -33.5563  |  94.7369  |  -66.1171 |  -50.8589 |   96.4641 | ...       | 0         | 0         | 0         | 0         | 0         | 0         | 0         | 0         | 0         | 0         |\n",
       "| 171.36501 |  17.4512  |  31.4652  | 342.95200 | -123.4670 |  21.2047  | 337.7340  | -121.0630 |   21.4850 |  479.0280 | ...       | 0         | 0         | 0         | 0         | 0         | 0         | 0         | 0         | 0         | 0         |\n",
       "|   0.00000 |   0.0000  |   0.0000  |   0.00000 |    0.0000 |   0.0000  |   0.0000  |    0.0000 |    0.0000 |    0.0000 | ...       | 0         | 0         | 0         | 0         | 0         | 0         | 0         | 0         | 0         | 0         |\n",
       "|   0.00000 |   0.0000  |   0.0000  |   0.00000 |    0.0000 |   0.0000  |   0.0000  |    0.0000 |    0.0000 |    0.0000 | ...       | 0         | 0         | 0         | 0         | 0         | 0         | 0         | 0         | 0         | 0         |\n",
       "| -29.71800 |  11.8925  | -53.4217  | -31.27470 |   12.5953 | -55.9876  | -64.7501  |   29.8005 | -112.3950 | -102.0910 | ...       | 0         | 0         | 0         | 0         | 0         | 0         | 0         | 0         | 0         | 0         |\n",
       "\n"
      ],
      "text/plain": [
       "  tracks[, i] tracks[, i + 1] tracks[, i + 2] tracks[, i].1 tracks[, i + 1].1\n",
       "1   2.53958   -32.9422        -18.5956          3.22143      -72.8393        \n",
       "2  26.08550   -19.4307        -18.0035         58.15980      -42.0439        \n",
       "3 171.36501    17.4512         31.4652        342.95200     -123.4670        \n",
       "4   0.00000     0.0000          0.0000          0.00000        0.0000        \n",
       "5   0.00000     0.0000          0.0000          0.00000        0.0000        \n",
       "6 -29.71800    11.8925        -53.4217        -31.27470       12.5953        \n",
       "  tracks[, i + 2].1 tracks[, i].2 tracks[, i + 1].2 tracks[, i + 2].2\n",
       "1 -34.7699            0.8076      -115.4140          -52.1330        \n",
       "2 -33.5563           94.7369       -66.1171          -50.8589        \n",
       "3  21.2047          337.7340      -121.0630           21.4850        \n",
       "4   0.0000            0.0000         0.0000            0.0000        \n",
       "5   0.0000            0.0000         0.0000            0.0000        \n",
       "6 -55.9876          -64.7501        29.8005         -112.3950        \n",
       "  tracks[, i].3 ... tracks[, i + 2].24 tracks[, i].25 tracks[, i + 1].25\n",
       "1    0.6271     ... 0                  0              0                 \n",
       "2   96.4641     ... 0                  0              0                 \n",
       "3  479.0280     ... 0                  0              0                 \n",
       "4    0.0000     ... 0                  0              0                 \n",
       "5    0.0000     ... 0                  0              0                 \n",
       "6 -102.0910     ... 0                  0              0                 \n",
       "  tracks[, i + 2].25 tracks[, i].26 tracks[, i + 1].26 tracks[, i + 2].26\n",
       "1 0                  0              0                  0                 \n",
       "2 0                  0              0                  0                 \n",
       "3 0                  0              0                  0                 \n",
       "4 0                  0              0                  0                 \n",
       "5 0                  0              0                  0                 \n",
       "6 0                  0              0                  0                 \n",
       "  tracks[, i].27 tracks[, i + 1].27 tracks[, i + 2].27\n",
       "1 0              0                  0                 \n",
       "2 0              0                  0                 \n",
       "3 0              0                  0                 \n",
       "4 0              0                  0                 \n",
       "5 0              0                  0                 \n",
       "6 0              0                  0                 "
      ]
     },
     "metadata": {},
     "output_type": "display_data"
    }
   ],
   "source": [
    "head(tracks)"
   ]
  },
  {
   "cell_type": "code",
   "execution_count": 22,
   "metadata": {},
   "outputs": [
    {
     "data": {
      "text/html": [
       "<ol class=list-inline>\n",
       "\t<li>'X1'</li>\n",
       "\t<li>'Y1'</li>\n",
       "\t<li>'Z1'</li>\n",
       "\t<li>'X2'</li>\n",
       "\t<li>'Y2'</li>\n",
       "\t<li>'Z2'</li>\n",
       "\t<li>'X3'</li>\n",
       "\t<li>'Y3'</li>\n",
       "\t<li>'Z3'</li>\n",
       "\t<li>'X4'</li>\n",
       "\t<li>'Y4'</li>\n",
       "\t<li>'Z4'</li>\n",
       "\t<li>'X5'</li>\n",
       "\t<li>'Y5'</li>\n",
       "\t<li>'Z5'</li>\n",
       "\t<li>'X6'</li>\n",
       "\t<li>'Y6'</li>\n",
       "\t<li>'Z6'</li>\n",
       "\t<li>'X7'</li>\n",
       "\t<li>'Y7'</li>\n",
       "\t<li>'Z7'</li>\n",
       "\t<li>'X8'</li>\n",
       "\t<li>'Y8'</li>\n",
       "\t<li>'Z8'</li>\n",
       "\t<li>'X9'</li>\n",
       "\t<li>'Y9'</li>\n",
       "\t<li>'Z9'</li>\n",
       "\t<li>'X10'</li>\n",
       "\t<li>'Y10'</li>\n",
       "\t<li>'Z10'</li>\n",
       "\t<li>'X11'</li>\n",
       "\t<li>'Y11'</li>\n",
       "\t<li>'Z11'</li>\n",
       "\t<li>'X12'</li>\n",
       "\t<li>'Y12'</li>\n",
       "\t<li>'Z12'</li>\n",
       "\t<li>'X13'</li>\n",
       "\t<li>'Y13'</li>\n",
       "\t<li>'Z13'</li>\n",
       "\t<li>'X14'</li>\n",
       "\t<li>'Y14'</li>\n",
       "\t<li>'Z14'</li>\n",
       "\t<li>'X15'</li>\n",
       "\t<li>'Y15'</li>\n",
       "\t<li>'Z15'</li>\n",
       "\t<li>'X16'</li>\n",
       "\t<li>'Y16'</li>\n",
       "\t<li>'Z16'</li>\n",
       "\t<li>'X17'</li>\n",
       "\t<li>'Y17'</li>\n",
       "\t<li>'Z17'</li>\n",
       "\t<li>'X18'</li>\n",
       "\t<li>'Y18'</li>\n",
       "\t<li>'Z18'</li>\n",
       "\t<li>'X19'</li>\n",
       "\t<li>'Y19'</li>\n",
       "\t<li>'Z19'</li>\n",
       "\t<li>'X20'</li>\n",
       "\t<li>'Y20'</li>\n",
       "\t<li>'Z20'</li>\n",
       "\t<li>'X21'</li>\n",
       "\t<li>'Y21'</li>\n",
       "\t<li>'Z21'</li>\n",
       "\t<li>'X22'</li>\n",
       "\t<li>'Y22'</li>\n",
       "\t<li>'Z22'</li>\n",
       "\t<li>'X23'</li>\n",
       "\t<li>'Y23'</li>\n",
       "\t<li>'Z23'</li>\n",
       "\t<li>'X24'</li>\n",
       "\t<li>'Y24'</li>\n",
       "\t<li>'Z24'</li>\n",
       "\t<li>'X25'</li>\n",
       "\t<li>'Y25'</li>\n",
       "\t<li>'Z25'</li>\n",
       "\t<li>'X26'</li>\n",
       "\t<li>'Y26'</li>\n",
       "\t<li>'Z26'</li>\n",
       "\t<li>'X27'</li>\n",
       "\t<li>'Y27'</li>\n",
       "\t<li>'Z27'</li>\n",
       "\t<li>'X28'</li>\n",
       "\t<li>'Y28'</li>\n",
       "\t<li>'Z28'</li>\n",
       "\t<li>'pt'</li>\n",
       "</ol>\n"
      ],
      "text/latex": [
       "\\begin{enumerate*}\n",
       "\\item 'X1'\n",
       "\\item 'Y1'\n",
       "\\item 'Z1'\n",
       "\\item 'X2'\n",
       "\\item 'Y2'\n",
       "\\item 'Z2'\n",
       "\\item 'X3'\n",
       "\\item 'Y3'\n",
       "\\item 'Z3'\n",
       "\\item 'X4'\n",
       "\\item 'Y4'\n",
       "\\item 'Z4'\n",
       "\\item 'X5'\n",
       "\\item 'Y5'\n",
       "\\item 'Z5'\n",
       "\\item 'X6'\n",
       "\\item 'Y6'\n",
       "\\item 'Z6'\n",
       "\\item 'X7'\n",
       "\\item 'Y7'\n",
       "\\item 'Z7'\n",
       "\\item 'X8'\n",
       "\\item 'Y8'\n",
       "\\item 'Z8'\n",
       "\\item 'X9'\n",
       "\\item 'Y9'\n",
       "\\item 'Z9'\n",
       "\\item 'X10'\n",
       "\\item 'Y10'\n",
       "\\item 'Z10'\n",
       "\\item 'X11'\n",
       "\\item 'Y11'\n",
       "\\item 'Z11'\n",
       "\\item 'X12'\n",
       "\\item 'Y12'\n",
       "\\item 'Z12'\n",
       "\\item 'X13'\n",
       "\\item 'Y13'\n",
       "\\item 'Z13'\n",
       "\\item 'X14'\n",
       "\\item 'Y14'\n",
       "\\item 'Z14'\n",
       "\\item 'X15'\n",
       "\\item 'Y15'\n",
       "\\item 'Z15'\n",
       "\\item 'X16'\n",
       "\\item 'Y16'\n",
       "\\item 'Z16'\n",
       "\\item 'X17'\n",
       "\\item 'Y17'\n",
       "\\item 'Z17'\n",
       "\\item 'X18'\n",
       "\\item 'Y18'\n",
       "\\item 'Z18'\n",
       "\\item 'X19'\n",
       "\\item 'Y19'\n",
       "\\item 'Z19'\n",
       "\\item 'X20'\n",
       "\\item 'Y20'\n",
       "\\item 'Z20'\n",
       "\\item 'X21'\n",
       "\\item 'Y21'\n",
       "\\item 'Z21'\n",
       "\\item 'X22'\n",
       "\\item 'Y22'\n",
       "\\item 'Z22'\n",
       "\\item 'X23'\n",
       "\\item 'Y23'\n",
       "\\item 'Z23'\n",
       "\\item 'X24'\n",
       "\\item 'Y24'\n",
       "\\item 'Z24'\n",
       "\\item 'X25'\n",
       "\\item 'Y25'\n",
       "\\item 'Z25'\n",
       "\\item 'X26'\n",
       "\\item 'Y26'\n",
       "\\item 'Z26'\n",
       "\\item 'X27'\n",
       "\\item 'Y27'\n",
       "\\item 'Z27'\n",
       "\\item 'X28'\n",
       "\\item 'Y28'\n",
       "\\item 'Z28'\n",
       "\\item 'pt'\n",
       "\\end{enumerate*}\n"
      ],
      "text/markdown": [
       "1. 'X1'\n",
       "2. 'Y1'\n",
       "3. 'Z1'\n",
       "4. 'X2'\n",
       "5. 'Y2'\n",
       "6. 'Z2'\n",
       "7. 'X3'\n",
       "8. 'Y3'\n",
       "9. 'Z3'\n",
       "10. 'X4'\n",
       "11. 'Y4'\n",
       "12. 'Z4'\n",
       "13. 'X5'\n",
       "14. 'Y5'\n",
       "15. 'Z5'\n",
       "16. 'X6'\n",
       "17. 'Y6'\n",
       "18. 'Z6'\n",
       "19. 'X7'\n",
       "20. 'Y7'\n",
       "21. 'Z7'\n",
       "22. 'X8'\n",
       "23. 'Y8'\n",
       "24. 'Z8'\n",
       "25. 'X9'\n",
       "26. 'Y9'\n",
       "27. 'Z9'\n",
       "28. 'X10'\n",
       "29. 'Y10'\n",
       "30. 'Z10'\n",
       "31. 'X11'\n",
       "32. 'Y11'\n",
       "33. 'Z11'\n",
       "34. 'X12'\n",
       "35. 'Y12'\n",
       "36. 'Z12'\n",
       "37. 'X13'\n",
       "38. 'Y13'\n",
       "39. 'Z13'\n",
       "40. 'X14'\n",
       "41. 'Y14'\n",
       "42. 'Z14'\n",
       "43. 'X15'\n",
       "44. 'Y15'\n",
       "45. 'Z15'\n",
       "46. 'X16'\n",
       "47. 'Y16'\n",
       "48. 'Z16'\n",
       "49. 'X17'\n",
       "50. 'Y17'\n",
       "51. 'Z17'\n",
       "52. 'X18'\n",
       "53. 'Y18'\n",
       "54. 'Z18'\n",
       "55. 'X19'\n",
       "56. 'Y19'\n",
       "57. 'Z19'\n",
       "58. 'X20'\n",
       "59. 'Y20'\n",
       "60. 'Z20'\n",
       "61. 'X21'\n",
       "62. 'Y21'\n",
       "63. 'Z21'\n",
       "64. 'X22'\n",
       "65. 'Y22'\n",
       "66. 'Z22'\n",
       "67. 'X23'\n",
       "68. 'Y23'\n",
       "69. 'Z23'\n",
       "70. 'X24'\n",
       "71. 'Y24'\n",
       "72. 'Z24'\n",
       "73. 'X25'\n",
       "74. 'Y25'\n",
       "75. 'Z25'\n",
       "76. 'X26'\n",
       "77. 'Y26'\n",
       "78. 'Z26'\n",
       "79. 'X27'\n",
       "80. 'Y27'\n",
       "81. 'Z27'\n",
       "82. 'X28'\n",
       "83. 'Y28'\n",
       "84. 'Z28'\n",
       "85. 'pt'\n",
       "\n",
       "\n"
      ],
      "text/plain": [
       " [1] \"X1\"  \"Y1\"  \"Z1\"  \"X2\"  \"Y2\"  \"Z2\"  \"X3\"  \"Y3\"  \"Z3\"  \"X4\"  \"Y4\"  \"Z4\" \n",
       "[13] \"X5\"  \"Y5\"  \"Z5\"  \"X6\"  \"Y6\"  \"Z6\"  \"X7\"  \"Y7\"  \"Z7\"  \"X8\"  \"Y8\"  \"Z8\" \n",
       "[25] \"X9\"  \"Y9\"  \"Z9\"  \"X10\" \"Y10\" \"Z10\" \"X11\" \"Y11\" \"Z11\" \"X12\" \"Y12\" \"Z12\"\n",
       "[37] \"X13\" \"Y13\" \"Z13\" \"X14\" \"Y14\" \"Z14\" \"X15\" \"Y15\" \"Z15\" \"X16\" \"Y16\" \"Z16\"\n",
       "[49] \"X17\" \"Y17\" \"Z17\" \"X18\" \"Y18\" \"Z18\" \"X19\" \"Y19\" \"Z19\" \"X20\" \"Y20\" \"Z20\"\n",
       "[61] \"X21\" \"Y21\" \"Z21\" \"X22\" \"Y22\" \"Z22\" \"X23\" \"Y23\" \"Z23\" \"X24\" \"Y24\" \"Z24\"\n",
       "[73] \"X25\" \"Y25\" \"Z25\" \"X26\" \"Y26\" \"Z26\" \"X27\" \"Y27\" \"Z27\" \"X28\" \"Y28\" \"Z28\"\n",
       "[85] \"pt\" "
      ]
     },
     "metadata": {},
     "output_type": "display_data"
    }
   ],
   "source": [
    "names(tracks)"
   ]
  },
  {
   "cell_type": "code",
   "execution_count": 19,
   "metadata": {},
   "outputs": [],
   "source": [
    "counter <- 1;\n",
    "for(i in seq(1,84, by=3)){\n",
    "    names(tracks)[i] <-  paste(\"X\", counter, sep=\"\");\n",
    "    names(tracks)[i+1] <-  paste(\"Y\", counter, sep=\"\");\n",
    "    names(tracks)[i+2] <-  paste(\"Z\", counter, sep=\"\");\n",
    "    counter <- counter +1;\n",
    "}"
   ]
  },
  {
   "cell_type": "code",
   "execution_count": 20,
   "metadata": {},
   "outputs": [],
   "source": [
    "tracks <- cbind(tracks, tracks_pt)"
   ]
  },
  {
   "cell_type": "code",
   "execution_count": 21,
   "metadata": {},
   "outputs": [],
   "source": [
    "names(tracks)[85] <- \"pt\""
   ]
  },
  {
   "cell_type": "code",
   "execution_count": 23,
   "metadata": {},
   "outputs": [
    {
     "data": {
      "text/html": [
       "<ol class=list-inline>\n",
       "\t<li>9999</li>\n",
       "\t<li>85</li>\n",
       "</ol>\n"
      ],
      "text/latex": [
       "\\begin{enumerate*}\n",
       "\\item 9999\n",
       "\\item 85\n",
       "\\end{enumerate*}\n"
      ],
      "text/markdown": [
       "1. 9999\n",
       "2. 85\n",
       "\n",
       "\n"
      ],
      "text/plain": [
       "[1] 9999   85"
      ]
     },
     "metadata": {},
     "output_type": "display_data"
    }
   ],
   "source": [
    "dim(tracks)"
   ]
  },
  {
   "cell_type": "code",
   "execution_count": 25,
   "metadata": {},
   "outputs": [],
   "source": [
    "model <- lm(tracks$pt ~ ., data=tracks)"
   ]
  },
  {
   "cell_type": "code",
   "execution_count": 27,
   "metadata": {},
   "outputs": [
    {
     "data": {
      "text/plain": [
       "\n",
       "Call:\n",
       "lm(formula = tracks$pt ~ ., data = tracks)\n",
       "\n",
       "Residuals:\n",
       "   Min     1Q Median     3Q    Max \n",
       "-1.870 -0.355 -0.200  0.068 54.861 \n",
       "\n",
       "Coefficients: (29 not defined because of singularities)\n",
       "              Estimate Std. Error t value Pr(>|t|)    \n",
       "(Intercept)  5.668e-01  1.114e-02  50.860  < 2e-16 ***\n",
       "X1          -1.365e-04  1.297e-04  -1.052 0.292721    \n",
       "Y1           1.642e-05  1.338e-04   0.123 0.902360    \n",
       "Z1          -8.934e-06  3.729e-05  -0.240 0.810667    \n",
       "X2           5.308e-05  1.679e-04   0.316 0.751867    \n",
       "Y2          -9.822e-05  1.671e-04  -0.588 0.556641    \n",
       "Z2          -3.579e-05  5.661e-05  -0.632 0.527276    \n",
       "X3           9.504e-05  1.889e-04   0.503 0.614991    \n",
       "Y3          -3.248e-06  1.780e-04  -0.018 0.985444    \n",
       "Z3           4.487e-05  6.357e-05   0.706 0.480267    \n",
       "X4          -1.365e-04  1.676e-04  -0.814 0.415643    \n",
       "Y4           1.848e-05  1.644e-04   0.112 0.910529    \n",
       "Z4           2.141e-05  5.288e-05   0.405 0.685523    \n",
       "X5           5.206e-05  1.408e-04   0.370 0.711598    \n",
       "Y5          -3.358e-05  1.392e-04  -0.241 0.809439    \n",
       "Z5          -5.040e-06  4.008e-05  -0.126 0.899941    \n",
       "X6           1.306e-04  1.385e-04   0.943 0.345766    \n",
       "Y6           5.969e-05  1.353e-04   0.441 0.659146    \n",
       "Z6           1.020e-06  3.799e-05   0.027 0.978578    \n",
       "X7          -1.326e-04  1.386e-04  -0.956 0.338943    \n",
       "Y7           2.608e-05  1.391e-04   0.187 0.851329    \n",
       "Z7          -3.013e-06  3.688e-05  -0.082 0.934883    \n",
       "X8           3.056e-05  1.356e-04   0.225 0.821706    \n",
       "Y8          -3.816e-05  1.413e-04  -0.270 0.787101    \n",
       "Z8          -2.667e-05  3.560e-05  -0.749 0.453748    \n",
       "X9          -1.759e-05  1.199e-04  -0.147 0.883405    \n",
       "Y9          -9.249e-05  1.241e-04  -0.745 0.456261    \n",
       "Z9           3.475e-05  3.117e-05   1.115 0.265038    \n",
       "X10         -5.576e-06  9.680e-05  -0.058 0.954068    \n",
       "Y10          1.073e-04  9.893e-05   1.085 0.278151    \n",
       "Z10         -1.064e-06  2.567e-05  -0.041 0.966934    \n",
       "X11          1.536e-04  7.818e-05   1.965 0.049426 *  \n",
       "Y11         -1.122e-04  7.941e-05  -1.413 0.157827    \n",
       "Z11         -5.110e-05  2.124e-05  -2.405 0.016178 *  \n",
       "X12         -1.412e-04  7.318e-05  -1.930 0.053652 .  \n",
       "Y12          9.601e-05  7.503e-05   1.280 0.200722    \n",
       "Z12          3.707e-05  2.036e-05   1.821 0.068600 .  \n",
       "X13         -1.011e-05  8.247e-05  -0.123 0.902462    \n",
       "Y13          5.631e-05  8.362e-05   0.673 0.500711    \n",
       "Z13         -9.013e-06  2.182e-05  -0.413 0.679513    \n",
       "X14          4.973e-05  1.139e-04   0.437 0.662382    \n",
       "Y14         -1.055e-04  1.103e-04  -0.957 0.338779    \n",
       "Z14          1.003e-05  2.697e-05   0.372 0.710007    \n",
       "X15          9.080e-05  1.718e-04   0.529 0.597081    \n",
       "Y15          8.223e-05  1.669e-04   0.493 0.622175    \n",
       "Z15         -1.381e-05  3.761e-05  -0.367 0.713501    \n",
       "X16         -1.185e-04  2.439e-04  -0.486 0.627130    \n",
       "Y16          5.540e-05  2.641e-04   0.210 0.833862    \n",
       "Z16          2.683e-05  5.743e-05   0.467 0.640360    \n",
       "X17         -6.218e-04  4.804e-04  -1.294 0.195616    \n",
       "Y17          2.146e-04  4.411e-04   0.487 0.626595    \n",
       "Z17          2.541e-04  1.329e-04   1.912 0.055879 .  \n",
       "X18          2.289e-03  6.890e-04   3.322 0.000897 ***\n",
       "Y18         -8.613e-04  7.190e-04  -1.198 0.231001    \n",
       "Z18         -1.192e-04  1.962e-04  -0.608 0.543395    \n",
       "X19          4.013e-03  3.607e-02   0.111 0.911421    \n",
       "Y19                 NA         NA      NA       NA    \n",
       "Z19                 NA         NA      NA       NA    \n",
       "X20                 NA         NA      NA       NA    \n",
       "Y20                 NA         NA      NA       NA    \n",
       "Z20                 NA         NA      NA       NA    \n",
       "X21                 NA         NA      NA       NA    \n",
       "Y21                 NA         NA      NA       NA    \n",
       "Z21                 NA         NA      NA       NA    \n",
       "X22                 NA         NA      NA       NA    \n",
       "Y22                 NA         NA      NA       NA    \n",
       "Z22                 NA         NA      NA       NA    \n",
       "X23                 NA         NA      NA       NA    \n",
       "Y23                 NA         NA      NA       NA    \n",
       "Z23                 NA         NA      NA       NA    \n",
       "X24                 NA         NA      NA       NA    \n",
       "Y24                 NA         NA      NA       NA    \n",
       "Z24                 NA         NA      NA       NA    \n",
       "X25                 NA         NA      NA       NA    \n",
       "Y25                 NA         NA      NA       NA    \n",
       "Z25                 NA         NA      NA       NA    \n",
       "X26                 NA         NA      NA       NA    \n",
       "Y26                 NA         NA      NA       NA    \n",
       "Z26                 NA         NA      NA       NA    \n",
       "X27                 NA         NA      NA       NA    \n",
       "Y27                 NA         NA      NA       NA    \n",
       "Z27                 NA         NA      NA       NA    \n",
       "X28                 NA         NA      NA       NA    \n",
       "Y28                 NA         NA      NA       NA    \n",
       "Z28                 NA         NA      NA       NA    \n",
       "---\n",
       "Signif. codes:  0 ‘***’ 0.001 ‘**’ 0.01 ‘*’ 0.05 ‘.’ 0.1 ‘ ’ 1\n",
       "\n",
       "Residual standard error: 1.065 on 9943 degrees of freedom\n",
       "Multiple R-squared:  0.004712,\tAdjusted R-squared:  -0.0007935 \n",
       "F-statistic: 0.8559 on 55 and 9943 DF,  p-value: 0.7672\n"
      ]
     },
     "metadata": {},
     "output_type": "display_data"
    }
   ],
   "source": [
    "summary(model)"
   ]
  },
  {
   "cell_type": "code",
   "execution_count": 29,
   "metadata": {},
   "outputs": [],
   "source": [
    "set.seed(123)"
   ]
  },
  {
   "cell_type": "code",
   "execution_count": 31,
   "metadata": {},
   "outputs": [
    {
     "data": {
      "text/html": [
       "9999"
      ],
      "text/latex": [
       "9999"
      ],
      "text/markdown": [
       "9999"
      ],
      "text/plain": [
       "[1] 9999"
      ]
     },
     "metadata": {},
     "output_type": "display_data"
    }
   ],
   "source": [
    "nrow(tracks)"
   ]
  },
  {
   "cell_type": "code",
   "execution_count": 32,
   "metadata": {},
   "outputs": [],
   "source": [
    "sample_size <- as.integer(nrow(tracks)*.8)"
   ]
  },
  {
   "cell_type": "code",
   "execution_count": 34,
   "metadata": {},
   "outputs": [],
   "source": [
    "sample_index <- sample(nrow(tracks), sample_size, replace = FALSE)"
   ]
  },
  {
   "cell_type": "code",
   "execution_count": 35,
   "metadata": {},
   "outputs": [],
   "source": [
    "tracks_train <- tracks[sample_index,]"
   ]
  },
  {
   "cell_type": "code",
   "execution_count": 36,
   "metadata": {},
   "outputs": [],
   "source": [
    "tracks_test <- tracks[-sample_index,]"
   ]
  },
  {
   "cell_type": "code",
   "execution_count": 104,
   "metadata": {},
   "outputs": [
    {
     "data": {
      "image/png": "[encoded data removed]",
      "text/plain": [
       "plot without title"
      ]
     },
     "metadata": {},
     "output_type": "display_data"
    }
   ],
   "source": [
    "plot(tracks_test$X1, tracks_test$pt)"
   ]
  },
  {
   "cell_type": "code",
   "execution_count": 88,
   "metadata": {},
   "outputs": [],
   "source": [
    "tracks.lm <- lm(pt ~ poly(X1,2)+ poly(Y1,2) , data=tracks_train)"
   ]
  },
  {
   "cell_type": "code",
   "execution_count": 89,
   "metadata": {},
   "outputs": [
    {
     "name": "stderr",
     "output_type": "stream",
     "text": [
      "Warning message in printCoefmat(coefs, digits = digits, signif.stars = signif.stars, :\n",
      "“NAs introduced by coercion”"
     ]
    },
    {
     "data": {
      "text/plain": [
       "\n",
       "Call:\n",
       "lm(formula = pt ~ poly(X1, 2) + poly(Y1, 2), data = tracks_train)\n",
       "\n",
       "Residuals:\n",
       "   Min     1Q Median     3Q    Max \n",
       "-0,484 -0,349 -0,192  0,067 55,011 \n",
       "\n",
       "Coefficients:\n",
       "             Estimate Std. Error t value Pr(>|t|)    \n",
       "(Intercept)   0,56832    0,01207  47,077   <2e-16 ***\n",
       "poly(X1, 2)1 -1,05552    1,08078  -0,977   0,3288    \n",
       "poly(X1, 2)2 -2,98995    1,15260  -2,594   0,0095 ** \n",
       "poly(Y1, 2)1 -0,32100    1,07989  -0,297   0,7663    \n",
       "poly(Y1, 2)2 -3,15157    1,15343  -2,732   0,0063 ** \n",
       "---\n",
       "Signif. codes:  0 ‘***’ 0,001 ‘**’ 0,01 ‘*’ 0,05 ‘.’ 0,1 ‘ ’ 1\n",
       "\n",
       "Residual standard error: 1,08 on 7994 degrees of freedom\n",
       "Multiple R-squared:  0,002887,\tAdjusted R-squared:  0,002388 \n",
       "F-statistic: 5,786 on 4 and 7994 DF,  p-value: 0,0001202\n"
      ]
     },
     "metadata": {},
     "output_type": "display_data"
    }
   ],
   "source": [
    "summary(tracks.lm)"
   ]
  },
  {
   "cell_type": "code",
   "execution_count": 90,
   "metadata": {},
   "outputs": [],
   "source": [
    "predictions <- predict(tracks.lm, data = tracks_test[1:84])"
   ]
  },
  {
   "cell_type": "code",
   "execution_count": 91,
   "metadata": {},
   "outputs": [
    {
     "name": "stderr",
     "output_type": "stream",
     "text": [
      "Warning message in predictions - tracks_test$pt:\n",
      "“longer object length is not a multiple of shorter object length”"
     ]
    },
    {
     "data": {
      "text/html": [
       "8000,69283840623"
      ],
      "text/latex": [
       "8000,69283840623"
      ],
      "text/markdown": [
       "8000,69283840623"
      ],
      "text/plain": [
       "[1] 8000,693"
      ]
     },
     "metadata": {},
     "output_type": "display_data"
    }
   ],
   "source": [
    "sum((predictions-tracks_test$pt)^2)"
   ]
  },
  {
   "cell_type": "code",
   "execution_count": 92,
   "metadata": {},
   "outputs": [
    {
     "name": "stderr",
     "output_type": "stream",
     "text": [
      "Warning message in tracks_test$pt - predictions:\n",
      "“longer object length is not a multiple of shorter object length”"
     ]
    }
   ],
   "source": [
    "rmse <- sqrt(mean((tracks_test$pt - predictions)^2))"
   ]
  },
  {
   "cell_type": "code",
   "execution_count": 94,
   "metadata": {},
   "outputs": [
    {
     "data": {
      "image/png": "[encoded data removed]",
      "text/plain": [
       "plot without title"
      ]
     },
     "metadata": {},
     "output_type": "display_data"
    }
   ],
   "source": [
    "barplot(tracks_test$pt[tracks_test$pt < 5])"
   ]
  },
  {
   "cell_type": "code",
   "execution_count": 95,
   "metadata": {},
   "outputs": [
    {
     "data": {
      "image/png": "[encoded data removed]",
      "text/plain": [
       "plot without title"
      ]
     },
     "metadata": {},
     "output_type": "display_data"
    }
   ],
   "source": [
    "barplot(predictions)"
   ]
  },
  {
   "cell_type": "code",
   "execution_count": 43,
   "metadata": {},
   "outputs": [
    {
     "data": {
      "text/html": [
       "1.00133978093591"
      ],
      "text/latex": [
       "1.00133978093591"
      ],
      "text/markdown": [
       "1.00133978093591"
      ],
      "text/plain": [
       "[1] 1.00134"
      ]
     },
     "metadata": {},
     "output_type": "display_data"
    }
   ],
   "source": [
    "rmse"
   ]
  },
  {
   "cell_type": "code",
   "execution_count": 64,
   "metadata": {},
   "outputs": [],
   "source": [
    "write.csv(tracks, \"data/tracks.csv\",  row.names=FALSE)"
   ]
  },
  {
   "cell_type": "code",
   "execution_count": 65,
   "metadata": {},
   "outputs": [],
   "source": [
    "tr <- read.csv(\"data/tracks.csv\")"
   ]
  },
  {
   "cell_type": "code",
   "execution_count": 66,
   "metadata": {},
   "outputs": [
    {
     "data": {
      "text/html": [
       "<ol class=list-inline>\n",
       "\t<li>'X1'</li>\n",
       "\t<li>'Y1'</li>\n",
       "\t<li>'Z1'</li>\n",
       "\t<li>'X2'</li>\n",
       "\t<li>'Y2'</li>\n",
       "\t<li>'Z2'</li>\n",
       "\t<li>'X3'</li>\n",
       "\t<li>'Y3'</li>\n",
       "\t<li>'Z3'</li>\n",
       "\t<li>'X4'</li>\n",
       "\t<li>'Y4'</li>\n",
       "\t<li>'Z4'</li>\n",
       "\t<li>'X5'</li>\n",
       "\t<li>'Y5'</li>\n",
       "\t<li>'Z5'</li>\n",
       "\t<li>'X6'</li>\n",
       "\t<li>'Y6'</li>\n",
       "\t<li>'Z6'</li>\n",
       "\t<li>'X7'</li>\n",
       "\t<li>'Y7'</li>\n",
       "\t<li>'Z7'</li>\n",
       "\t<li>'X8'</li>\n",
       "\t<li>'Y8'</li>\n",
       "\t<li>'Z8'</li>\n",
       "\t<li>'X9'</li>\n",
       "\t<li>'Y9'</li>\n",
       "\t<li>'Z9'</li>\n",
       "\t<li>'X10'</li>\n",
       "\t<li>'Y10'</li>\n",
       "\t<li>'Z10'</li>\n",
       "\t<li>'X11'</li>\n",
       "\t<li>'Y11'</li>\n",
       "\t<li>'Z11'</li>\n",
       "\t<li>'X12'</li>\n",
       "\t<li>'Y12'</li>\n",
       "\t<li>'Z12'</li>\n",
       "\t<li>'X13'</li>\n",
       "\t<li>'Y13'</li>\n",
       "\t<li>'Z13'</li>\n",
       "\t<li>'X14'</li>\n",
       "\t<li>'Y14'</li>\n",
       "\t<li>'Z14'</li>\n",
       "\t<li>'X15'</li>\n",
       "\t<li>'Y15'</li>\n",
       "\t<li>'Z15'</li>\n",
       "\t<li>'X16'</li>\n",
       "\t<li>'Y16'</li>\n",
       "\t<li>'Z16'</li>\n",
       "\t<li>'X17'</li>\n",
       "\t<li>'Y17'</li>\n",
       "\t<li>'Z17'</li>\n",
       "\t<li>'X18'</li>\n",
       "\t<li>'Y18'</li>\n",
       "\t<li>'Z18'</li>\n",
       "\t<li>'X19'</li>\n",
       "\t<li>'Y19'</li>\n",
       "\t<li>'Z19'</li>\n",
       "\t<li>'X20'</li>\n",
       "\t<li>'Y20'</li>\n",
       "\t<li>'Z20'</li>\n",
       "\t<li>'X21'</li>\n",
       "\t<li>'Y21'</li>\n",
       "\t<li>'Z21'</li>\n",
       "\t<li>'X22'</li>\n",
       "\t<li>'Y22'</li>\n",
       "\t<li>'Z22'</li>\n",
       "\t<li>'X23'</li>\n",
       "\t<li>'Y23'</li>\n",
       "\t<li>'Z23'</li>\n",
       "\t<li>'X24'</li>\n",
       "\t<li>'Y24'</li>\n",
       "\t<li>'Z24'</li>\n",
       "\t<li>'X25'</li>\n",
       "\t<li>'Y25'</li>\n",
       "\t<li>'Z25'</li>\n",
       "\t<li>'X26'</li>\n",
       "\t<li>'Y26'</li>\n",
       "\t<li>'Z26'</li>\n",
       "\t<li>'X27'</li>\n",
       "\t<li>'Y27'</li>\n",
       "\t<li>'Z27'</li>\n",
       "\t<li>'X28'</li>\n",
       "\t<li>'Y28'</li>\n",
       "\t<li>'Z28'</li>\n",
       "\t<li>'pt'</li>\n",
       "</ol>\n"
      ],
      "text/latex": [
       "\\begin{enumerate*}\n",
       "\\item 'X1'\n",
       "\\item 'Y1'\n",
       "\\item 'Z1'\n",
       "\\item 'X2'\n",
       "\\item 'Y2'\n",
       "\\item 'Z2'\n",
       "\\item 'X3'\n",
       "\\item 'Y3'\n",
       "\\item 'Z3'\n",
       "\\item 'X4'\n",
       "\\item 'Y4'\n",
       "\\item 'Z4'\n",
       "\\item 'X5'\n",
       "\\item 'Y5'\n",
       "\\item 'Z5'\n",
       "\\item 'X6'\n",
       "\\item 'Y6'\n",
       "\\item 'Z6'\n",
       "\\item 'X7'\n",
       "\\item 'Y7'\n",
       "\\item 'Z7'\n",
       "\\item 'X8'\n",
       "\\item 'Y8'\n",
       "\\item 'Z8'\n",
       "\\item 'X9'\n",
       "\\item 'Y9'\n",
       "\\item 'Z9'\n",
       "\\item 'X10'\n",
       "\\item 'Y10'\n",
       "\\item 'Z10'\n",
       "\\item 'X11'\n",
       "\\item 'Y11'\n",
       "\\item 'Z11'\n",
       "\\item 'X12'\n",
       "\\item 'Y12'\n",
       "\\item 'Z12'\n",
       "\\item 'X13'\n",
       "\\item 'Y13'\n",
       "\\item 'Z13'\n",
       "\\item 'X14'\n",
       "\\item 'Y14'\n",
       "\\item 'Z14'\n",
       "\\item 'X15'\n",
       "\\item 'Y15'\n",
       "\\item 'Z15'\n",
       "\\item 'X16'\n",
       "\\item 'Y16'\n",
       "\\item 'Z16'\n",
       "\\item 'X17'\n",
       "\\item 'Y17'\n",
       "\\item 'Z17'\n",
       "\\item 'X18'\n",
       "\\item 'Y18'\n",
       "\\item 'Z18'\n",
       "\\item 'X19'\n",
       "\\item 'Y19'\n",
       "\\item 'Z19'\n",
       "\\item 'X20'\n",
       "\\item 'Y20'\n",
       "\\item 'Z20'\n",
       "\\item 'X21'\n",
       "\\item 'Y21'\n",
       "\\item 'Z21'\n",
       "\\item 'X22'\n",
       "\\item 'Y22'\n",
       "\\item 'Z22'\n",
       "\\item 'X23'\n",
       "\\item 'Y23'\n",
       "\\item 'Z23'\n",
       "\\item 'X24'\n",
       "\\item 'Y24'\n",
       "\\item 'Z24'\n",
       "\\item 'X25'\n",
       "\\item 'Y25'\n",
       "\\item 'Z25'\n",
       "\\item 'X26'\n",
       "\\item 'Y26'\n",
       "\\item 'Z26'\n",
       "\\item 'X27'\n",
       "\\item 'Y27'\n",
       "\\item 'Z27'\n",
       "\\item 'X28'\n",
       "\\item 'Y28'\n",
       "\\item 'Z28'\n",
       "\\item 'pt'\n",
       "\\end{enumerate*}\n"
      ],
      "text/markdown": [
       "1. 'X1'\n",
       "2. 'Y1'\n",
       "3. 'Z1'\n",
       "4. 'X2'\n",
       "5. 'Y2'\n",
       "6. 'Z2'\n",
       "7. 'X3'\n",
       "8. 'Y3'\n",
       "9. 'Z3'\n",
       "10. 'X4'\n",
       "11. 'Y4'\n",
       "12. 'Z4'\n",
       "13. 'X5'\n",
       "14. 'Y5'\n",
       "15. 'Z5'\n",
       "16. 'X6'\n",
       "17. 'Y6'\n",
       "18. 'Z6'\n",
       "19. 'X7'\n",
       "20. 'Y7'\n",
       "21. 'Z7'\n",
       "22. 'X8'\n",
       "23. 'Y8'\n",
       "24. 'Z8'\n",
       "25. 'X9'\n",
       "26. 'Y9'\n",
       "27. 'Z9'\n",
       "28. 'X10'\n",
       "29. 'Y10'\n",
       "30. 'Z10'\n",
       "31. 'X11'\n",
       "32. 'Y11'\n",
       "33. 'Z11'\n",
       "34. 'X12'\n",
       "35. 'Y12'\n",
       "36. 'Z12'\n",
       "37. 'X13'\n",
       "38. 'Y13'\n",
       "39. 'Z13'\n",
       "40. 'X14'\n",
       "41. 'Y14'\n",
       "42. 'Z14'\n",
       "43. 'X15'\n",
       "44. 'Y15'\n",
       "45. 'Z15'\n",
       "46. 'X16'\n",
       "47. 'Y16'\n",
       "48. 'Z16'\n",
       "49. 'X17'\n",
       "50. 'Y17'\n",
       "51. 'Z17'\n",
       "52. 'X18'\n",
       "53. 'Y18'\n",
       "54. 'Z18'\n",
       "55. 'X19'\n",
       "56. 'Y19'\n",
       "57. 'Z19'\n",
       "58. 'X20'\n",
       "59. 'Y20'\n",
       "60. 'Z20'\n",
       "61. 'X21'\n",
       "62. 'Y21'\n",
       "63. 'Z21'\n",
       "64. 'X22'\n",
       "65. 'Y22'\n",
       "66. 'Z22'\n",
       "67. 'X23'\n",
       "68. 'Y23'\n",
       "69. 'Z23'\n",
       "70. 'X24'\n",
       "71. 'Y24'\n",
       "72. 'Z24'\n",
       "73. 'X25'\n",
       "74. 'Y25'\n",
       "75. 'Z25'\n",
       "76. 'X26'\n",
       "77. 'Y26'\n",
       "78. 'Z26'\n",
       "79. 'X27'\n",
       "80. 'Y27'\n",
       "81. 'Z27'\n",
       "82. 'X28'\n",
       "83. 'Y28'\n",
       "84. 'Z28'\n",
       "85. 'pt'\n",
       "\n",
       "\n"
      ],
      "text/plain": [
       " [1] \"X1\"  \"Y1\"  \"Z1\"  \"X2\"  \"Y2\"  \"Z2\"  \"X3\"  \"Y3\"  \"Z3\"  \"X4\"  \"Y4\"  \"Z4\" \n",
       "[13] \"X5\"  \"Y5\"  \"Z5\"  \"X6\"  \"Y6\"  \"Z6\"  \"X7\"  \"Y7\"  \"Z7\"  \"X8\"  \"Y8\"  \"Z8\" \n",
       "[25] \"X9\"  \"Y9\"  \"Z9\"  \"X10\" \"Y10\" \"Z10\" \"X11\" \"Y11\" \"Z11\" \"X12\" \"Y12\" \"Z12\"\n",
       "[37] \"X13\" \"Y13\" \"Z13\" \"X14\" \"Y14\" \"Z14\" \"X15\" \"Y15\" \"Z15\" \"X16\" \"Y16\" \"Z16\"\n",
       "[49] \"X17\" \"Y17\" \"Z17\" \"X18\" \"Y18\" \"Z18\" \"X19\" \"Y19\" \"Z19\" \"X20\" \"Y20\" \"Z20\"\n",
       "[61] \"X21\" \"Y21\" \"Z21\" \"X22\" \"Y22\" \"Z22\" \"X23\" \"Y23\" \"Z23\" \"X24\" \"Y24\" \"Z24\"\n",
       "[73] \"X25\" \"Y25\" \"Z25\" \"X26\" \"Y26\" \"Z26\" \"X27\" \"Y27\" \"Z27\" \"X28\" \"Y28\" \"Z28\"\n",
       "[85] \"pt\" "
      ]
     },
     "metadata": {},
     "output_type": "display_data"
    }
   ],
   "source": [
    "names(tr)"
   ]
  },
  {
   "cell_type": "code",
   "execution_count": 1,
   "metadata": {},
   "outputs": [
    {
     "ename": "ERROR",
     "evalue": "Error in eval(expr, envir, enclos): object 'tr' not found\n",
     "output_type": "error",
     "traceback": [
      "Error in eval(expr, envir, enclos): object 'tr' not found\nTraceback:\n"
     ]
    }
   ],
   "source": [
    "dim(tr)"
   ]
  },
  {
   "cell_type": "code",
   "execution_count": null,
   "metadata": {},
   "outputs": [],
   "source": [
    "\n"
   ]
  }
 ],
 "metadata": {
  "kernelspec": {
   "display_name": "R",
   "language": "R",
   "name": "ir"
  },
  "language_info": {
   "codemirror_mode": "r",
   "file_extension": ".r",
   "mimetype": "text/x-r-source",
   "name": "R",
   "pygments_lexer": "r",
   "version": "3.6.0"
  }
 },
 "nbformat": 4,
 "nbformat_minor": 2
}
